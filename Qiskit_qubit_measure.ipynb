{
  "nbformat": 4,
  "nbformat_minor": 0,
  "metadata": {
    "colab": {
      "provenance": []
    },
    "kernelspec": {
      "name": "python3",
      "display_name": "Python 3"
    },
    "language_info": {
      "name": "python"
    }
  },
  "cells": [
    {
      "cell_type": "code",
      "source": [
        "# ===============================\n",
        "# Qiskit Qubit Measurement Assignment\n",
        "# Author: Sanjay-dev22\n",
        "# Forked from: arunpandianj/Qiskit_qubit_Measure\n",
        "# ===============================\n",
        "\n",
        "# Install required packages\n",
        "!pip install qiskit qiskit-aer --upgrade -q\n",
        "!pip install pylatexenc\n",
        "\n",
        "# Import libraries\n",
        "from qiskit import QuantumCircuit, transpile\n",
        "from qiskit_aer import AerSimulator\n",
        "from IPython.display import display\n",
        "\n",
        "# Create Aer simulator instance\n",
        "sim = AerSimulator()\n"
      ],
      "metadata": {
        "colab": {
          "base_uri": "https://localhost:8080/"
        },
        "id": "4dsV6TG0wQsD",
        "outputId": "bc487b57-0473-4948-c47f-760b704931f1"
      },
      "execution_count": 1,
      "outputs": [
        {
          "output_type": "stream",
          "name": "stdout",
          "text": [
            "Requirement already satisfied: pylatexenc in /usr/local/lib/python3.12/dist-packages (2.10)\n"
          ]
        }
      ]
    },
    {
      "cell_type": "code",
      "source": [
        "# ===============================\n",
        "# Task 1 — Verify |0⟩ and |1⟩\n",
        "# ===============================\n",
        "# Objective:\n",
        "#  - Run the given circuits for |0⟩ and |1⟩ states.\n",
        "#  - Record measurement counts for 512 shots.\n",
        "#  - Observe whether the results are deterministic or random.\n",
        "\n",
        "# |0> state\n",
        "qc0 = QuantumCircuit(1, 1)\n",
        "qc0.measure_all()\n",
        "job0 = sim.run(transpile(qc0, sim), shots=512).result()\n",
        "counts0 = job0.get_counts()\n",
        "print(\"=== |0⟩ State ===\")\n",
        "display(qc0.draw(output='mpl'))\n",
        "print(\"Measurement Result (512 shots):\", counts0)\n",
        "\n",
        "# |1> state (apply X)\n",
        "qc1 = QuantumCircuit(1, 1)\n",
        "qc1.x(0)\n",
        "qc1.measure_all()\n",
        "job1 = sim.run(transpile(qc1, sim), shots=512).result()\n",
        "counts1 = job1.get_counts()\n",
        "print(\"\\n=== |1⟩ State ===\")\n",
        "display(qc1.draw(output='mpl'))\n",
        "print(\"Measurement Result (512 shots):\", counts1)\n",
        "\n",
        "print(\"\\nExplanation: Both |0⟩ and |1⟩ states give deterministic results since measurement of basis states is fixed.\")\n"
      ],
      "metadata": {
        "colab": {
          "base_uri": "https://localhost:8080/",
          "height": 614
        },
        "id": "QlhrXGoQwREZ",
        "outputId": "d84cf5de-8538-49a9-8137-8a100adf5784"
      },
      "execution_count": 2,
      "outputs": [
        {
          "output_type": "stream",
          "name": "stdout",
          "text": [
            "=== |0⟩ State ===\n"
          ]
        },
        {
          "output_type": "display_data",
          "data": {
            "text/plain": [
              "<Figure size 329.554x284.278 with 1 Axes>"
            ],
            "image/png": "[encoded data removed]"
          },
          "metadata": {}
        },
        {
          "output_type": "stream",
          "name": "stdout",
          "text": [
            "Measurement Result (512 shots): {'0 0': 512}\n",
            "\n",
            "=== |1⟩ State ===\n"
          ]
        },
        {
          "output_type": "display_data",
          "data": {
            "text/plain": [
              "<Figure size 413.165x284.278 with 1 Axes>"
            ],
            "image/png": "[encoded data removed]"
          },
          "metadata": {}
        },
        {
          "output_type": "stream",
          "name": "stdout",
          "text": [
            "Measurement Result (512 shots): {'1 0': 512}\n",
            "\n",
            "Explanation: Both |0⟩ and |1⟩ states give deterministic results since measurement of basis states is fixed.\n"
          ]
        }
      ]
    },
    {
      "cell_type": "code",
      "source": [
        "# ===============================\n",
        "# Task 2 — Change the number of shots\n",
        "# ===============================\n",
        "# Objective:\n",
        "#  - Run the same |0⟩ circuit with 10 and 1000 shots.\n",
        "#  - Observe if results change and explain why.\n",
        "\n",
        "# |0> with 10 shots\n",
        "qc0_10 = QuantumCircuit(1, 1)\n",
        "qc0_10.measure_all()\n",
        "job_10 = sim.run(transpile(qc0_10, sim), shots=10).result()\n",
        "counts_10 = job_10.get_counts()\n",
        "print(\"=== |0⟩ with 10 Shots ===\")\n",
        "display(qc0_10.draw(output='mpl'))\n",
        "print(\"Measurement Result (10 shots):\", counts_10)\n",
        "\n",
        "# |0> with 1000 shots\n",
        "qc0_1000 = QuantumCircuit(1, 1)\n",
        "qc0_1000.measure_all()\n",
        "job_1000 = sim.run(transpile(qc0_1000, sim), shots=1000).result()\n",
        "counts_1000 = job_1000.get_counts()\n",
        "print(\"\\n=== |0⟩ with 1000 Shots ===\")\n",
        "display(qc0_1000.draw(output='mpl'))\n",
        "print(\"Measurement Result (1000 shots):\", counts_1000)\n",
        "\n",
        "print(\"\\nExplanation: Both results remain the same (all |0⟩). The number of shots only affects statistical sampling — deterministic states always yield the same outcome.\")\n"
      ],
      "metadata": {
        "colab": {
          "base_uri": "https://localhost:8080/",
          "height": 614
        },
        "id": "3MJbFm8owSTy",
        "outputId": "96635bf0-6063-41e3-b119-06515610f967"
      },
      "execution_count": 3,
      "outputs": [
        {
          "output_type": "stream",
          "name": "stdout",
          "text": [
            "=== |0⟩ with 10 Shots ===\n"
          ]
        },
        {
          "output_type": "display_data",
          "data": {
            "text/plain": [
              "<Figure size 329.554x284.278 with 1 Axes>"
            ],
            "image/png": "[encoded data removed]"
          },
          "metadata": {}
        },
        {
          "output_type": "stream",
          "name": "stdout",
          "text": [
            "Measurement Result (10 shots): {'0 0': 10}\n",
            "\n",
            "=== |0⟩ with 1000 Shots ===\n"
          ]
        },
        {
          "output_type": "display_data",
          "data": {
            "text/plain": [
              "<Figure size 329.554x284.278 with 1 Axes>"
            ],
            "image/png": "[encoded data removed]"
          },
          "metadata": {}
        },
        {
          "output_type": "stream",
          "name": "stdout",
          "text": [
            "Measurement Result (1000 shots): {'0 0': 1000}\n",
            "\n",
            "Explanation: Both results remain the same (all |0⟩). The number of shots only affects statistical sampling — deterministic states always yield the same outcome.\n"
          ]
        }
      ]
    },
    {
      "cell_type": "code",
      "source": [
        "# ===============================\n",
        "# Task 3 — Superposition with Hadamard\n",
        "# ===============================\n",
        "# Objective:\n",
        "#  - Apply a Hadamard gate (H) before measurement.\n",
        "#  - Observe whether the results are deterministic or probabilistic.\n",
        "\n",
        "qc_h = QuantumCircuit(1, 1)\n",
        "qc_h.h(0)\n",
        "qc_h.measure_all()\n",
        "job_h = sim.run(transpile(qc_h, sim), shots=512).result()\n",
        "counts_h = job_h.get_counts()\n",
        "print(\"=== Superposition with Hadamard (|+⟩) ===\")\n",
        "display(qc_h.draw(output='mpl'))\n",
        "print(\"Measurement Result (512 shots):\", counts_h)\n",
        "print(\"\\nExplanation: The Hadamard creates an equal superposition of |0⟩ and |1⟩, so the outcomes are probabilistic (~50%-50%).\")\n"
      ],
      "metadata": {
        "colab": {
          "base_uri": "https://localhost:8080/",
          "height": 324
        },
        "id": "16pL9EJHwT_i",
        "outputId": "a052f4b9-1ae4-4a1f-d94f-3564bb7636ea"
      },
      "execution_count": 4,
      "outputs": [
        {
          "output_type": "stream",
          "name": "stdout",
          "text": [
            "=== Superposition with Hadamard (|+⟩) ===\n"
          ]
        },
        {
          "output_type": "display_data",
          "data": {
            "text/plain": [
              "<Figure size 413.165x284.278 with 1 Axes>"
            ],
            "image/png": "[encoded data removed]"
          },
          "metadata": {}
        },
        {
          "output_type": "stream",
          "name": "stdout",
          "text": [
            "Measurement Result (512 shots): {'0 0': 253, '1 0': 259}\n",
            "\n",
            "Explanation: The Hadamard creates an equal superposition of |0⟩ and |1⟩, so the outcomes are probabilistic (~50%-50%).\n"
          ]
        }
      ]
    },
    {
      "cell_type": "code",
      "source": [
        "# ===============================\n",
        "# Task 4 — Combine X and H gates\n",
        "# ===============================\n",
        "# Objective:\n",
        "#  - Apply X followed by H gate.\n",
        "#  - Predict results before running, then verify.\n",
        "\n",
        "qc_xh = QuantumCircuit(1, 1)\n",
        "qc_xh.x(0)\n",
        "qc_xh.h(0)\n",
        "qc_xh.measure_all()\n",
        "job_xh = sim.run(transpile(qc_xh, sim), shots=512).result()\n",
        "counts_xh = job_xh.get_counts()\n",
        "print(\"=== Combine X then H (|-⟩ State) ===\")\n",
        "display(qc_xh.draw(output='mpl'))\n",
        "print(\"Measurement Result (512 shots):\", counts_xh)\n",
        "print(\"\\nExplanation: The X followed by H transforms |0⟩ → |1⟩ → (|0⟩ - |1⟩)/√2, giving a superposition with inverted probabilities.\")\n"
      ],
      "metadata": {
        "colab": {
          "base_uri": "https://localhost:8080/",
          "height": 324
        },
        "id": "fH7VkFJewVSi",
        "outputId": "2bc560cf-0cd7-4186-f91e-3fb583805cfe"
      },
      "execution_count": 5,
      "outputs": [
        {
          "output_type": "stream",
          "name": "stdout",
          "text": [
            "=== Combine X then H (|-⟩ State) ===\n"
          ]
        },
        {
          "output_type": "display_data",
          "data": {
            "text/plain": [
              "<Figure size 496.776x284.278 with 1 Axes>"
            ],
            "image/png": "[encoded data removed]"
          },
          "metadata": {}
        },
        {
          "output_type": "stream",
          "name": "stdout",
          "text": [
            "Measurement Result (512 shots): {'0 0': 257, '1 0': 255}\n",
            "\n",
            "Explanation: The X followed by H transforms |0⟩ → |1⟩ → (|0⟩ - |1⟩)/√2, giving a superposition with inverted probabilities.\n"
          ]
        }
      ]
    },
    {
      "cell_type": "code",
      "source": [
        "# ===============================\n",
        "# Task 5 — Two-Qubit Circuit\n",
        "# ===============================\n",
        "# Objective:\n",
        "#  - Qubit 0 = |0⟩\n",
        "#  - Qubit 1 = |1⟩\n",
        "#  - Measure both and observe output.\n",
        "\n",
        "qc_2 = QuantumCircuit(2, 2)\n",
        "qc_2.x(1)\n",
        "qc_2.measure([0, 1], [0, 1])\n",
        "job_2 = sim.run(transpile(qc_2, sim), shots=512).result()\n",
        "counts_2 = job_2.get_counts()\n",
        "print(\"=== Two-Qubit Circuit ===\")\n",
        "display(qc_2.draw(output='mpl'))\n",
        "print(\"Measurement Result (512 shots):\", counts_2)\n",
        "print(\"\\nExplanation: The circuit prepares |01⟩ deterministically, so all measurements give '01'.\")\n"
      ],
      "metadata": {
        "colab": {
          "base_uri": "https://localhost:8080/",
          "height": 324
        },
        "id": "wiIttz-fwWeS",
        "outputId": "b1aaf826-0ea8-43ac-ca06-22c40d2a5429"
      },
      "execution_count": 6,
      "outputs": [
        {
          "output_type": "stream",
          "name": "stdout",
          "text": [
            "=== Two-Qubit Circuit ===\n"
          ]
        },
        {
          "output_type": "display_data",
          "data": {
            "text/plain": [
              "<Figure size 370.906x284.278 with 1 Axes>"
            ],
            "image/png": "[encoded data removed]"
          },
          "metadata": {}
        },
        {
          "output_type": "stream",
          "name": "stdout",
          "text": [
            "Measurement Result (512 shots): {'10': 512}\n",
            "\n",
            "Explanation: The circuit prepares |01⟩ deterministically, so all measurements give '01'.\n"
          ]
        }
      ]
    }
  ]
}